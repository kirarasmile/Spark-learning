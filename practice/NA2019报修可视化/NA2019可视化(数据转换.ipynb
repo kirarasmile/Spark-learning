{
 "cells": [
  {
   "cell_type": "code",
   "execution_count": 2,
   "metadata": {},
   "outputs": [],
   "source": [
    "import pandas as pd\n",
    "\n",
    "data = pd.read_excel('/home/hadoop/smile/2019.xls')\n",
    "with open('/home/hadoop/smile/2019.txt', 'a+', encoding = 'utf-8') as f:\n",
    "    for line in data.values:\n",
    "        f.write((str(line[3]) +'\\t'+ str(line[4]) +'\\t'+ str(line[7]) +'\\t'+ str(line[8]) +'\\t'+ str(line[11])+'\\n'))\n",
    "# print(data['dst'])\n",
    "# print(data.columns)"
   ]
  },
  {
   "cell_type": "code",
   "execution_count": 3,
   "metadata": {},
   "outputs": [],
   "source": [
    "import pandas as pd\n",
    "\n",
    "data = pd.read_excel('/home/hadoop/smile/2019.xls')\n",
    "with open('/home/hadoop/smile/2019title.txt', 'a+', encoding = 'utf-8') as f:\n",
    "    for line in data.values:\n",
    "        f.write((str(line[5]) + '\\n'))"
   ]
  }
 ],
 "metadata": {
  "kernelspec": {
   "display_name": "Python 3",
   "language": "python",
   "name": "python3"
  },
  "language_info": {
   "codemirror_mode": {
    "name": "ipython",
    "version": 3
   },
   "file_extension": ".py",
   "mimetype": "text/x-python",
   "name": "python",
   "nbconvert_exporter": "python",
   "pygments_lexer": "ipython3",
   "version": "3.7.6"
  }
 },
 "nbformat": 4,
 "nbformat_minor": 4
}
