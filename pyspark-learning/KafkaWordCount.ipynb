{
 "cells": [
  {
   "cell_type": "code",
   "execution_count": 1,
   "metadata": {},
   "outputs": [],
   "source": [
    "import os\n",
    "os.environ[\"PYSPARK_PYTHON\"] = \"/home/hadoop/anaconda3/bin/python\""
   ]
  },
  {
   "cell_type": "code",
   "execution_count": 2,
   "metadata": {},
   "outputs": [],
   "source": [
    "from __future__ import print_function\n",
    "import sys\n",
    "from pyspark import SparkContext\n",
    "from pyspark.streaming import StreamingContext\n",
    "from pyspark.streaming.kafka import KafkaUtils"
   ]
  },
  {
   "cell_type": "code",
   "execution_count": null,
   "metadata": {},
   "outputs": [
    {
     "name": "stdout",
     "output_type": "stream",
     "text": [
      "-------------------------------------------\n",
      "Time: 2020-07-08 05:21:02\n",
      "-------------------------------------------\n",
      "\n",
      "-------------------------------------------\n",
      "Time: 2020-07-08 05:21:03\n",
      "-------------------------------------------\n",
      "\n",
      "-------------------------------------------\n",
      "Time: 2020-07-08 05:21:04\n",
      "-------------------------------------------\n",
      "\n",
      "-------------------------------------------\n",
      "Time: 2020-07-08 05:21:05\n",
      "-------------------------------------------\n",
      "\n",
      "-------------------------------------------\n",
      "Time: 2020-07-08 05:21:06\n",
      "-------------------------------------------\n",
      "\n",
      "-------------------------------------------\n",
      "Time: 2020-07-08 05:21:07\n",
      "-------------------------------------------\n",
      "\n",
      "-------------------------------------------\n",
      "Time: 2020-07-08 05:21:08\n",
      "-------------------------------------------\n",
      "\n",
      "-------------------------------------------\n",
      "Time: 2020-07-08 05:21:09\n",
      "-------------------------------------------\n",
      "\n",
      "-------------------------------------------\n",
      "Time: 2020-07-08 05:21:10\n",
      "-------------------------------------------\n",
      "\n",
      "-------------------------------------------\n",
      "Time: 2020-07-08 05:21:11\n",
      "-------------------------------------------\n",
      "\n",
      "-------------------------------------------\n",
      "Time: 2020-07-08 05:21:12\n",
      "-------------------------------------------\n",
      "\n"
     ]
    }
   ],
   "source": [
    "if __name__ == \"__main__\":\n",
    "#     if len(sys.argv) != 3:\n",
    "#         print(\"Usage: kafka_wordcount.py <zk> <topic>\", file = sys.stderr)\n",
    "#         exit(-1)\n",
    "    sc = SparkContext(appName=\"PythonStreamingKafkaWordCount\")\n",
    "    ssc = StreamingContext(sc, 1)\n",
    "    \n",
    "#     zkQuorum, topic = sys.argv[1:]\n",
    "    kvs = KafkaUtils.createStream(ssc, 'localhost:2181',\\\n",
    "                                  'spark-streaming-consumer',\\\n",
    "                                  {\"wordsendertest\": 1})\n",
    "    lines = kvs.map(lambda x: x[1])\n",
    "    counts = lines.flatMap(lambda line: line.split(\" \"))\\\n",
    "                    .map(lambda a, b: a+b)\\\n",
    "                    .reduceByKey(lambda a, b: a+b)\n",
    "    counts.pprint()\n",
    "    ssc.start()\n",
    "    ssc.awaitTermination()"
   ]
  },
  {
   "cell_type": "code",
   "execution_count": 10,
   "metadata": {
    "scrolled": true
   },
   "outputs": [
    {
     "name": "stdout",
     "output_type": "stream",
     "text": [
      "CountLine.ipynb       spark-warehouse\t\t      套接字流.ipynb\r\n",
      "DataFrame.ipynb       TestPartitioner.py.ipynb\t      未命名1.ipynb\r\n",
      "HelloWorld.ipynb      WordCount.ipynb\t\t      未命名.ipynb\r\n",
      "KafkaWordCount.ipynb  创建StreamingContext对象.ipynb  文件流.ipynb\r\n",
      "RDD队列流.ipynb       读写Parquet.ipynb\r\n"
     ]
    }
   ],
   "source": [
    "!ls"
   ]
  }
 ],
 "metadata": {
  "kernelspec": {
   "display_name": "Python 3",
   "language": "python",
   "name": "python3"
  },
  "language_info": {
   "codemirror_mode": {
    "name": "ipython",
    "version": 3
   },
   "file_extension": ".py",
   "mimetype": "text/x-python",
   "name": "python",
   "nbconvert_exporter": "python",
   "pygments_lexer": "ipython3",
   "version": "3.7.6"
  }
 },
 "nbformat": 4,
 "nbformat_minor": 4
}
