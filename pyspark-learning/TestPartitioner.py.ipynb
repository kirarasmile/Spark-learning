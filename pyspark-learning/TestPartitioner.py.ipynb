{
 "cells": [
  {
   "cell_type": "code",
   "execution_count": 2,
   "metadata": {},
   "outputs": [
    {
     "name": "stdout",
     "output_type": "stream",
     "text": [
      "The main function is running\n"
     ]
    }
   ],
   "source": [
    "import os\n",
    "os.environ[\"PYSPARK_PYTHON\"]=\"/home/hadoop/anaconda3/bin/python\"\n",
    "from pyspark import SparkConf, SparkContext\n",
    "\n",
    "def MyPartitioner(key):\n",
    "    print(\"MyPartitioner i running\")\n",
    "    print('The key is %d'%key)\n",
    "    return key%10\n",
    "\n",
    "def main():\n",
    "    print(\"The main function is running\")\n",
    "    conf = SparkConf().setMaster(\"local\").setAppName(\"MyApp\") # 配置上下文环境\n",
    "    sc = SparkContext(conf = conf) # 传递刚才创建好的上下文环境，生成SparkContext对象\n",
    "    data = sc.parallelize(range(10), 5)\n",
    "    data.map(lambda x:(x, 1))\\\n",
    "            .partitionBy(10, MyPartitioner)\\\n",
    "            .map(lambda x:x[0])\\\n",
    "            .saveAsTextFile(\"file:///usr/local/spark/mycode/rdd/partitioner\") # 使用自定义函数对其重分区\n",
    "    \n",
    "if __name__ == '__main__':\n",
    "    main()"
   ]
  }
 ],
 "metadata": {
  "kernelspec": {
   "display_name": "Python 3",
   "language": "python",
   "name": "python3"
  },
  "language_info": {
   "codemirror_mode": {
    "name": "ipython",
    "version": 3
   },
   "file_extension": ".py",
   "mimetype": "text/x-python",
   "name": "python",
   "nbconvert_exporter": "python",
   "pygments_lexer": "ipython3",
   "version": "3.7.6"
  }
 },
 "nbformat": 4,
 "nbformat_minor": 4
}
