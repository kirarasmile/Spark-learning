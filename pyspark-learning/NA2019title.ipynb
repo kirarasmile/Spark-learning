{
 "cells": [
  {
   "cell_type": "code",
   "execution_count": 75,
   "metadata": {},
   "outputs": [
    {
     "name": "stdout",
     "output_type": "stream",
     "text": [
      "网线     562\n",
      "不了     313\n",
      "电脑     147\n",
      "无法     129\n",
      "水晶头    119\n",
      "故障     104\n",
      "问题      93\n",
      "网络      70\n",
      "连接      66\n",
      "蝴蝶      66\n",
      "内网      50\n",
      "接触不良    41\n",
      "宿舍      37\n",
      "不能      36\n",
      "连不上     35\n"
     ]
    }
   ],
   "source": [
    "import pandas as pd\n",
    "import jieba.analyse\n",
    "import jieba\n",
    "import json\n",
    "from pyecharts import options as opts\n",
    "from pyecharts.charts import WordCloud\n",
    "# data = pd.read_table(\"/home/hadoop/smile/2019title.txt\")\n",
    "txt = open(\"/home/hadoop/smile/2019title.txt\", \"r\", encoding='utf-8').read()\n",
    "words = jieba.lcut(txt) \n",
    "counts = {}\n",
    "for word in words:\n",
    "    if  len(word) == 1:    # 单个词语不计算在内\n",
    "        continue\n",
    "    else:\n",
    "        counts[word] = counts.get(word, 0) + 1    # 遍历所有词语，每出现一次其对应的值加 1\n",
    "        \n",
    "items = list(counts.items())#将键值对转换成列表\n",
    "items.sort(key=lambda x: x[1], reverse=True)    # 根据词语出现的次数进行从大到小排序\n",
    "\n",
    "for i in range(15):\n",
    "    word, count = items[i]\n",
    "    print(\"{0:<5}{1:>5}\".format(word, count))\n",
    "# print(words)\n",
    "# print(data)\n",
    "# flags = ('n')\n",
    "# keywords_textrank = jieba.analyse.textrank(str(data), allowPOS=flags)\n",
    "# seg_list = jieba.cut_for_search(str(data))\n",
    "# print(\"\\n\")\n",
    "# print(keywords_textrank)\n",
    "# with open('/home/hadoop/smile/2019title.txt', 'a+', encoding = 'utf-8') as f:\n",
    "#     for line in data.values:\n",
    "#         f.write((str(line[5]) + '\\n'))\n"
   ]
  }
 ],
 "metadata": {
  "kernelspec": {
   "display_name": "Python 3",
   "language": "python",
   "name": "python3"
  },
  "language_info": {
   "codemirror_mode": {
    "name": "ipython",
    "version": 3
   },
   "file_extension": ".py",
   "mimetype": "text/x-python",
   "name": "python",
   "nbconvert_exporter": "python",
   "pygments_lexer": "ipython3",
   "version": "3.7.6"
  }
 },
 "nbformat": 4,
 "nbformat_minor": 4
}
